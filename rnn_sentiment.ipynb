{
 "cells": [
  {
   "cell_type": "markdown",
   "metadata": {},
   "source": [
    "# How to apply pretrained RNNs to sentiment classification"
   ]
  },
  {
   "cell_type": "code",
   "execution_count": 201,
   "metadata": {
    "collapsed": false
   },
   "outputs": [],
   "source": [
    "import re\n",
    "import torch\n",
    "from torch.autograd import Variable\n",
    "\n",
    "import sys\n",
    "# git clone https://github.com/Cadene/skip-thoughts.torch your-path/skip-thoughts.torch \n",
    "sys.path.append('/Users/remicadene/Documents/skip-thoughts.torch/pytorch')\n",
    "import skipthoughts"
   ]
  },
  {
   "cell_type": "code",
   "execution_count": 212,
   "metadata": {
    "collapsed": true
   },
   "outputs": [],
   "source": [
    "list_text = []\n",
    "list_text.append(\"\"\"This product is so cool!\"\"\")\n",
    "list_text.append(\"\"\"This product is awesome!.\"\"\")\n",
    "list_text.append(\"\"\"This product is the worst.\"\"\")\n",
    "list_text.append(\"\"\"This product is bad.\"\"\")"
   ]
  },
  {
   "cell_type": "code",
   "execution_count": 202,
   "metadata": {
    "collapsed": true
   },
   "outputs": [],
   "source": [
    "def tokenize_mcb(s):\n",
    "    t_str = s.lower()\n",
    "    for i in [r'\\?',r'\\!',r'\\'',r'\\\"',r'\\$',r'\\:',r'\\@',r'\\(',r'\\)',r'\\,',r'\\.',r'\\;']:\n",
    "        t_str = re.sub( i, '', t_str)\n",
    "    for i in [r'\\-',r'\\/']:\n",
    "        t_str = re.sub( i, ' ', t_str)\n",
    "    q_list = re.sub(r'\\?','',t_str.lower()).split(' ')\n",
    "    q_list = list(filter(lambda x: len(x) > 0, q_list))\n",
    "    return q_list"
   ]
  },
  {
   "cell_type": "code",
   "execution_count": 203,
   "metadata": {
    "collapsed": false
   },
   "outputs": [
    {
     "name": "stdout",
     "output_type": "stream",
     "text": [
      "Sentence:  This product is so cool!\n",
      "\n",
      "Tokenized:  ['this', 'product', 'is', 'so', 'cool']\n"
     ]
    }
   ],
   "source": [
    "list_words = []\n",
    "for text in list_text:\n",
    "    list_words.append(tokenize_mcb(text))\n",
    "\n",
    "print(\"Sentence: \", list_text[0])\n",
    "print()\n",
    "print(\"Tokenized: \", list_words[0])"
   ]
  },
  {
   "cell_type": "code",
   "execution_count": 204,
   "metadata": {
    "collapsed": false
   },
   "outputs": [
    {
     "name": "stdout",
     "output_type": "stream",
     "text": [
      "Vocab:  ['awesome', 'bad', 'cool', 'is', 'product', 'so', 'the', 'this', 'worst']\n",
      "\n",
      "wid_to_word:  {1: 'awesome', 2: 'bad', 3: 'cool', 4: 'is', 5: 'product', 6: 'so', 7: 'the', 8: 'this', 9: 'worst'}\n",
      "\n",
      "word_to_wid:  {'awesome': 1, 'bad': 2, 'cool': 3, 'is': 4, 'product': 5, 'so': 6, 'the': 7, 'this': 8, 'worst': 9}\n"
     ]
    }
   ],
   "source": [
    "vocab = sorted(list(set(sum(list_words, []))))\n",
    "wid_to_word = {k+1:v for k,v in enumerate(vocab)}\n",
    "word_to_wid = {v:k+1 for k,v in enumerate(vocab)}\n",
    "\n",
    "print(\"Vocab: \", vocab)\n",
    "print()\n",
    "print(\"wid_to_word: \", wid_to_word)\n",
    "print()\n",
    "print(\"word_to_wid: \", word_to_wid)"
   ]
  },
  {
   "cell_type": "code",
   "execution_count": 206,
   "metadata": {
    "collapsed": false
   },
   "outputs": [
    {
     "name": "stdout",
     "output_type": "stream",
     "text": [
      "UniSkip (\n",
      "  (embedding): Embedding(10, 620, padding_idx=0)\n",
      "  (rnn): GRU(620, 2400, batch_first=True, dropout=0.25)\n",
      ")\n"
     ]
    }
   ],
   "source": [
    "model = skipthoughts.UniSkip(dir_st='/local/cadene/data/skip-thoughts', vocab=vocab)\n",
    "model.eval()\n",
    "print(model)"
   ]
  },
  {
   "cell_type": "code",
   "execution_count": 207,
   "metadata": {
    "collapsed": false,
    "scrolled": true
   },
   "outputs": [
    {
     "name": "stdout",
     "output_type": "stream",
     "text": [
      "Text: This product is so cool!\n",
      "\n",
      "Tokens/words: ['this', 'product', 'is', 'so', 'cool']\n",
      "\n",
      "Words indices (wid): \n",
      " 8\n",
      " 5\n",
      " 4\n",
      " 6\n",
      " 3\n",
      " 0\n",
      " 0\n",
      " 0\n",
      " 0\n",
      " 0\n",
      " 0\n",
      " 0\n",
      " 0\n",
      " 0\n",
      " 0\n",
      " 0\n",
      " 0\n",
      " 0\n",
      " 0\n",
      " 0\n",
      " 0\n",
      " 0\n",
      " 0\n",
      " 0\n",
      " 0\n",
      " 0\n",
      " 0\n",
      " 0\n",
      " 0\n",
      " 0\n",
      "[torch.LongTensor of size 30]\n",
      "\n"
     ]
    }
   ],
   "source": [
    "input_data = torch.zeros(len(list_words), 30).long()\n",
    "for i, words in enumerate(list_words):\n",
    "    for j, word in enumerate(words):\n",
    "        input_data[i, j] = word_to_wid[word]\n",
    "\n",
    "print('Text:', list_text[0])\n",
    "print()\n",
    "print('Tokens/words:', list_words[0])\n",
    "print()\n",
    "print('Words indices (wid):', input_data[0])"
   ]
  },
  {
   "cell_type": "code",
   "execution_count": 208,
   "metadata": {
    "collapsed": false
   },
   "outputs": [
    {
     "name": "stdout",
     "output_type": "stream",
     "text": [
      "Variable containing:\n",
      " 1.1492e-01 -1.3318e-01 -3.1362e-02  ...  -1.0996e-01 -1.5351e-01  1.1315e-01\n",
      " 1.1731e-01 -1.2809e-01  1.8069e-01  ...  -3.5556e-03 -7.3061e-02  8.4156e-02\n",
      " 6.8998e-02 -8.0519e-02 -3.5652e-02  ...  -2.2748e-04  5.7240e-02  8.8556e-02\n",
      " 9.8589e-02 -1.2645e-01  9.2250e-02  ...  -2.8879e-03  9.3828e-03  8.0683e-02\n",
      "[torch.FloatTensor of size 4x2400]\n",
      "\n"
     ]
    }
   ],
   "source": [
    "input = Variable(input_data, requires_grad=False)\n",
    "output = model(input)\n",
    "\n",
    "print(output)"
   ]
  },
  {
   "cell_type": "code",
   "execution_count": 209,
   "metadata": {
    "collapsed": false
   },
   "outputs": [
    {
     "name": "stdout",
     "output_type": "stream",
     "text": [
      "1. Good sentence: This product is so cool!\n",
      "\n",
      "2. Good sentence: This product is awesome!.\n",
      "\n",
      "3. Bad sentence: This product is the worst.\n",
      "\n",
      "4. Bad sentence: This product is bad.\n"
     ]
    }
   ],
   "source": [
    "print(\"1. Good sentence:\", list_text[0])\n",
    "print()\n",
    "print(\"2. Good sentence:\", list_text[1])\n",
    "print()\n",
    "print(\"3. Bad sentence:\", list_text[2])\n",
    "print()\n",
    "print(\"4. Bad sentence:\", list_text[3])"
   ]
  },
  {
   "cell_type": "code",
   "execution_count": 210,
   "metadata": {
    "collapsed": false
   },
   "outputs": [
    {
     "name": "stdout",
     "output_type": "stream",
     "text": [
      "Distance between 1. and 1. : 0.0\n",
      "Distance between 1. and 2. : 6.261634373944153\n",
      "Distance between 1. and 3. : 7.528564480834965\n",
      "Distance between 1. and 4. : 6.926180566075845\n",
      "\n",
      "Distance between 3. and 1. : 7.528564480834965\n",
      "Distance between 3. and 2. : 7.2155281572546555\n",
      "Distance between 3. and 3. : 0.0\n",
      "Distance between 3. and 4. : 6.143091070593966\n"
     ]
    }
   ],
   "source": [
    "for i in range(4):\n",
    "    print(\"Distance between 1. and \"+str(i+1)+\". :\", torch.dist(output.data[0], output.data[i]))\n",
    "    \n",
    "print()\n",
    "\n",
    "for i in range(4):\n",
    "    print(\"Distance between 3. and \"+str(i+1)+\". :\", torch.dist(output.data[2], output.data[i]))"
   ]
  },
  {
   "cell_type": "code",
   "execution_count": null,
   "metadata": {
    "collapsed": true
   },
   "outputs": [],
   "source": []
  },
  {
   "cell_type": "code",
   "execution_count": null,
   "metadata": {
    "collapsed": true
   },
   "outputs": [],
   "source": []
  }
 ],
 "metadata": {
  "kernelspec": {
   "display_name": "Python 3",
   "language": "python",
   "name": "python3"
  },
  "language_info": {
   "codemirror_mode": {
    "name": "ipython",
    "version": 3
   },
   "file_extension": ".py",
   "mimetype": "text/x-python",
   "name": "python",
   "nbconvert_exporter": "python",
   "pygments_lexer": "ipython3",
   "version": "3.6.0"
  }
 },
 "nbformat": 4,
 "nbformat_minor": 2
}
